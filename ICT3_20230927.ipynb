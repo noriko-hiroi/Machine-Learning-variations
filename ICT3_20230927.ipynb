{
  "nbformat": 4,
  "nbformat_minor": 0,
  "metadata": {
    "colab": {
      "provenance": [],
      "include_colab_link": true
    },
    "kernelspec": {
      "name": "python3",
      "display_name": "Python 3"
    },
    "language_info": {
      "name": "python"
    }
  },
  "cells": [
    {
      "cell_type": "markdown",
      "metadata": {
        "id": "view-in-github",
        "colab_type": "text"
      },
      "source": [
        "<a href=\"https://colab.research.google.com/github/noriko-hiroi/Machine-Learning-variations/blob/main/ICT3_20230927.ipynb\" target=\"_parent\"><img src=\"https://colab.research.google.com/assets/colab-badge.svg\" alt=\"Open In Colab\"/></a>"
      ]
    },
    {
      "cell_type": "markdown",
      "source": [
        "単語のベクトル変換\n",
        "\n",
        "単語の分散行列を用いて変換する"
      ],
      "metadata": {
        "id": "SX4IdmqO-63G"
      }
    },
    {
      "cell_type": "code",
      "execution_count": null,
      "metadata": {
        "id": "jZSdmoNe-2q2",
        "outputId": "24acd6eb-0956-49d0-8a8a-5b69992f4cf1",
        "colab": {
          "base_uri": "https://localhost:8080/"
        }
      },
      "outputs": [
        {
          "output_type": "stream",
          "name": "stdout",
          "text": [
            "--2023-10-11 04:18:32--  http://mattmahoney.net/dc/text8.zip\n",
            "Resolving mattmahoney.net (mattmahoney.net)... 34.198.1.81\n",
            "Connecting to mattmahoney.net (mattmahoney.net)|34.198.1.81|:80... connected.\n",
            "HTTP request sent, awaiting response... 200 OK\n",
            "Length: 31344016 (30M) [application/zip]\n",
            "Saving to: ‘text8.zip’\n",
            "\n",
            "\rtext8.zip             0%[                    ]       0  --.-KB/s               \rtext8.zip           100%[===================>]  29.89M  --.-KB/s    in 0.1s    \n",
            "\n",
            "2023-10-11 04:18:33 (283 MB/s) - ‘text8.zip’ saved [31344016/31344016]\n",
            "\n"
          ]
        }
      ],
      "source": [
        "!wget http://mattmahoney.net/dc/text8.zip"
      ]
    },
    {
      "cell_type": "code",
      "source": [
        "!unzip text8.zip"
      ],
      "metadata": {
        "id": "Vk_KxGbmKjFX",
        "colab": {
          "base_uri": "https://localhost:8080/"
        },
        "outputId": "c2d1cf5f-0432-4837-ca2d-46bf927966cb"
      },
      "execution_count": null,
      "outputs": [
        {
          "output_type": "stream",
          "name": "stdout",
          "text": [
            "Archive:  text8.zip\n",
            "  inflating: text8                   \n"
          ]
        }
      ]
    },
    {
      "cell_type": "code",
      "source": [
        "import logging\n",
        "from gensim.models.word2vec import Word2Vec, Text8Corpus"
      ],
      "metadata": {
        "id": "NtfdPca6HrUD"
      },
      "execution_count": null,
      "outputs": []
    },
    {
      "cell_type": "code",
      "source": [
        "logging.basicConfig(format='%(asctime)s : %(levelname)s : %(message)s', level=logging.INFO)\n",
        "\n",
        "sentences = Text8Corpus('text8')\n",
        "model = Word2Vec(sentences, vector_size=100)\n",
        "\n",
        "model.save('model.bin')"
      ],
      "metadata": {
        "id": "lDH1UCSSKks7"
      },
      "execution_count": null,
      "outputs": []
    },
    {
      "cell_type": "code",
      "source": [
        "model = Word2Vec.load('model.bin')\n",
        "\n",
        "# dogの分散表現ベクトル\n",
        "print(model.wv['dog'])\n",
        "print(model.wv['dog'].shape)\n"
      ],
      "metadata": {
        "id": "xh44aL-5KmJR",
        "colab": {
          "base_uri": "https://localhost:8080/"
        },
        "outputId": "7ce1b0cf-0565-4cdc-c72e-cd48189708ef"
      },
      "execution_count": null,
      "outputs": [
        {
          "output_type": "stream",
          "name": "stdout",
          "text": [
            "[ 0.11809247  0.4512811   1.0130279  -1.6684744   2.1510096  -0.22375609\n",
            " -1.8467262   1.2547178  -0.6107512   1.1295806  -0.72974014 -0.03007952\n",
            "  0.6330046   3.1148798  -1.7816842  -0.5128113   0.48227057 -1.2819283\n",
            "  0.2708329   0.10422442 -0.98859084  1.1048343  -0.1141338  -2.0433435\n",
            " -1.9704336   0.5400039   0.15547232  0.08258142 -0.7986988  -0.9534558\n",
            "  2.3468988  -1.5923157   0.6719288  -0.86797833 -0.20086622  0.56771946\n",
            " -1.2568125  -0.6020936  -1.8775358  -1.3872563   0.87625134  0.9023934\n",
            " -0.6754867   0.39136177  1.7728627  -1.0202391   0.1785705  -0.8380516\n",
            "  0.12386625  1.1897997   2.170431    0.23574327  0.40957016 -0.0439441\n",
            "  0.03668742 -1.7710724  -0.47257343 -1.3917028  -2.1316638  -0.6672748\n",
            " -0.36575684  1.3159441  -2.4127712   1.5586468   0.21956515  0.78486866\n",
            " -0.47241393 -0.8987651  -0.35750076 -0.5527903   1.7695627  -0.77903605\n",
            " -0.58363664  2.4089017   0.43077618  1.6623634   0.22506495  1.3038867\n",
            "  0.1308621   1.8175563  -2.192085    0.1483497  -0.25277677 -0.0209988\n",
            " -2.80043    -0.23263328  1.066418    0.9895992   0.6326936   0.24462242\n",
            "  2.619523   -1.737311    0.9235858   2.0293207   1.3381003   0.1760311\n",
            "  0.6388926   0.43481126 -0.27307883  1.1704062 ]\n",
            "(100,)\n"
          ]
        }
      ]
    },
    {
      "cell_type": "code",
      "source": [
        "# carと意味が似ている単語を抽出\n",
        "model.wv.most_similar(['car'])"
      ],
      "metadata": {
        "colab": {
          "base_uri": "https://localhost:8080/"
        },
        "id": "eilHoANHBbvA",
        "outputId": "448f375d-7dd4-4250-de77-614ba26f5e2f"
      },
      "execution_count": null,
      "outputs": [
        {
          "output_type": "execute_result",
          "data": {
            "text/plain": [
              "[('driver', 0.7881032228469849),\n",
              " ('cars', 0.7551908493041992),\n",
              " ('motorcycle', 0.714643657207489),\n",
              " ('truck', 0.6855698823928833),\n",
              " ('taxi', 0.6850064396858215),\n",
              " ('vehicle', 0.6808817982673645),\n",
              " ('glider', 0.6626836657524109),\n",
              " ('racing', 0.6562012434005737),\n",
              " ('automobile', 0.6530294418334961),\n",
              " ('passenger', 0.6475187540054321)]"
            ]
          },
          "metadata": {},
          "execution_count": 5
        }
      ]
    },
    {
      "cell_type": "markdown",
      "source": [
        "類似度はコサイン尺度で計算することができる！"
      ],
      "metadata": {
        "id": "MaHRZQuOCYoX"
      }
    },
    {
      "cell_type": "markdown",
      "source": [
        "宿題:\n",
        "Pythonでコサイン尺度を計算する関数cos_sim(v1, v2)を作ってみよう！"
      ],
      "metadata": {
        "id": "5zeC-O-fDUFS"
      }
    },
    {
      "cell_type": "code",
      "source": [
        "v1 = model.wv['car']\n",
        "v2 = model.wv['driver']"
      ],
      "metadata": {
        "id": "aHWRaV3hDVZO"
      },
      "execution_count": null,
      "outputs": []
    },
    {
      "cell_type": "code",
      "source": [
        "print(model.wv.similarity('driver', 'vehicle'))"
      ],
      "metadata": {
        "colab": {
          "base_uri": "https://localhost:8080/"
        },
        "id": "ZApHNQRa_fX9",
        "outputId": "dc9625f4-bff3-41f2-bb40-45d803c02d09"
      },
      "execution_count": null,
      "outputs": [
        {
          "output_type": "stream",
          "name": "stdout",
          "text": [
            "0.5489122\n"
          ]
        }
      ]
    },
    {
      "cell_type": "code",
      "source": [
        "import numpy as np\n",
        "np.dot(v1, v2)"
      ],
      "metadata": {
        "colab": {
          "base_uri": "https://localhost:8080/"
        },
        "id": "u-8FLUfr_uJp",
        "outputId": "87c7e5f1-726d-48c0-d7d0-35523b683cb5"
      },
      "execution_count": null,
      "outputs": [
        {
          "output_type": "execute_result",
          "data": {
            "text/plain": [
              "106.25111"
            ]
          },
          "metadata": {},
          "execution_count": 9
        }
      ]
    },
    {
      "cell_type": "code",
      "source": [
        "np.linalg.norm(v1)"
      ],
      "metadata": {
        "colab": {
          "base_uri": "https://localhost:8080/"
        },
        "id": "2Az2AHYF_5TM",
        "outputId": "7f6c5177-ab13-41fd-fbcd-b3bc32aa0177"
      },
      "execution_count": null,
      "outputs": [
        {
          "output_type": "execute_result",
          "data": {
            "text/plain": [
              "13.315583"
            ]
          },
          "metadata": {},
          "execution_count": 10
        }
      ]
    },
    {
      "cell_type": "markdown",
      "source": [
        "# コサイン尺度の関数定義"
      ],
      "metadata": {
        "id": "3HE-VJD6ACB4"
      }
    },
    {
      "cell_type": "code",
      "source": [
        "def cos_sim (v1, v2):\n",
        "  cosine_value = np.dot(v1, v2) / (np.linalg.norm(v1) * np.linalg.norm(v2))\n",
        "\n",
        "  return cosine_value"
      ],
      "metadata": {
        "id": "5TLjniRXEBjZ"
      },
      "execution_count": null,
      "outputs": []
    },
    {
      "cell_type": "code",
      "source": [
        "cos_sim(v1, v2)"
      ],
      "metadata": {
        "colab": {
          "base_uri": "https://localhost:8080/"
        },
        "id": "TtCBUL-yJmEK",
        "outputId": "e33ea7da-ff9a-464b-a35d-3e0a4fc2386b"
      },
      "execution_count": null,
      "outputs": [
        {
          "output_type": "execute_result",
          "data": {
            "text/plain": [
              "0.7881032"
            ]
          },
          "metadata": {},
          "execution_count": 14
        }
      ]
    },
    {
      "cell_type": "markdown",
      "source": [
        "# RNNの実装\n",
        "\n",
        "入力単語のベクトルは、wordvecのベクトルを使う。\n",
        "ベクトルの次元は100次元\n",
        "\n",
        "入力層の出力次元数 = RNN内部での次元数 = 5"
      ],
      "metadata": {
        "id": "mWl323CPCT4W"
      }
    },
    {
      "cell_type": "code",
      "source": [
        "wordvec_size = 100\n",
        "hidden_size = 5\n",
        "\n",
        "Wx = np.random.randn(wordvec_size, hidden_size)\n",
        "b = np.zeros(hidden_size)\n",
        "print(Wx.shape)\n",
        "print(b.shape)"
      ],
      "metadata": {
        "colab": {
          "base_uri": "https://localhost:8080/"
        },
        "id": "ALYgmy14DD_Y",
        "outputId": "9c794528-3200-4f78-d09c-58f21df5f55a"
      },
      "execution_count": null,
      "outputs": [
        {
          "output_type": "stream",
          "name": "stdout",
          "text": [
            "(100, 5)\n",
            "(5,)\n"
          ]
        }
      ]
    },
    {
      "cell_type": "code",
      "source": [
        "Wx"
      ],
      "metadata": {
        "id": "pn-Byt7sDVAK"
      },
      "execution_count": null,
      "outputs": []
    },
    {
      "cell_type": "code",
      "source": [
        "a0 = np.dot(v1, Wx) + b\n",
        "print(a0)"
      ],
      "metadata": {
        "colab": {
          "base_uri": "https://localhost:8080/"
        },
        "id": "1i6xphWLDieb",
        "outputId": "a053e76e-4d85-4377-949d-452a336e718d"
      },
      "execution_count": null,
      "outputs": [
        {
          "output_type": "stream",
          "name": "stdout",
          "text": [
            "[ 5.54505591  1.28844004 18.78010823 12.73464581 10.04536912]\n"
          ]
        }
      ]
    },
    {
      "cell_type": "markdown",
      "source": [
        "次に活性化関数tanh()に入力する。"
      ],
      "metadata": {
        "id": "WzW0XkoaEFcg"
      }
    },
    {
      "cell_type": "code",
      "source": [
        "h0 = np.tanh(a0)\n",
        "print(h0)"
      ],
      "metadata": {
        "colab": {
          "base_uri": "https://localhost:8080/"
        },
        "id": "EW-vukFIEJt3",
        "outputId": "e02bb03e-4ee1-4876-eb69-b1832484a150"
      },
      "execution_count": null,
      "outputs": [
        {
          "output_type": "stream",
          "name": "stdout",
          "text": [
            "[0.99996948 0.85871743 1.         1.         1.        ]\n"
          ]
        }
      ]
    },
    {
      "cell_type": "code",
      "source": [
        "def RNN_cell(v):\n",
        "  wordvec_size = 100\n",
        "  hidden_size = 5\n",
        "  Wx = np.random.randn(wordvec_size, hidden_size)\n",
        "  a = np.dot(v, Wx) + b\n",
        "  h = np.tanh(a)\n",
        "\n",
        "  return h"
      ],
      "metadata": {
        "id": "6CP4fTmjFM_7"
      },
      "execution_count": null,
      "outputs": []
    },
    {
      "cell_type": "code",
      "source": [
        "RNN_cell(v1)"
      ],
      "metadata": {
        "colab": {
          "base_uri": "https://localhost:8080/"
        },
        "id": "9zOXn7YvFfeI",
        "outputId": "f53e9951-8392-496a-834b-47ce085824b9"
      },
      "execution_count": null,
      "outputs": [
        {
          "output_type": "execute_result",
          "data": {
            "text/plain": [
              "array([ 1.        , -0.98866712, -0.99999987, -1.        ,  0.99999973])"
            ]
          },
          "metadata": {},
          "execution_count": 31
        }
      ]
    },
    {
      "cell_type": "markdown",
      "source": [
        "I like dogをベクトルにする。\n",
        "x0, x1, x2は、100次元のベクトルである。"
      ],
      "metadata": {
        "id": "mIMdBchJFqPU"
      }
    },
    {
      "cell_type": "code",
      "source": [
        "x0 = model.wv['i']\n",
        "x1 = model.wv['like']\n",
        "x2 = model.wv['dog']"
      ],
      "metadata": {
        "id": "db3lg_XjFp6c"
      },
      "execution_count": null,
      "outputs": []
    },
    {
      "cell_type": "code",
      "source": [
        "x0.shape"
      ],
      "metadata": {
        "colab": {
          "base_uri": "https://localhost:8080/"
        },
        "id": "p_0TZNIgGJ1-",
        "outputId": "90935d73-590e-44eb-83b6-5403f2672c28"
      },
      "execution_count": null,
      "outputs": [
        {
          "output_type": "execute_result",
          "data": {
            "text/plain": [
              "(100,)"
            ]
          },
          "metadata": {},
          "execution_count": 29
        }
      ]
    },
    {
      "cell_type": "markdown",
      "source": [
        "擬似RNNセルに入力して、出力h0, h1, h2を得る。"
      ],
      "metadata": {
        "id": "x-F555RpGPK-"
      }
    },
    {
      "cell_type": "code",
      "source": [
        "h0 = RNN_cell(x0)\n",
        "h1 = RNN_cell(x1)\n",
        "h2 = RNN_cell(x2)"
      ],
      "metadata": {
        "id": "TCw-t7PSGXGT"
      },
      "execution_count": null,
      "outputs": []
    },
    {
      "cell_type": "code",
      "source": [
        "print(h0)\n",
        "print(h1)\n",
        "print(h2)"
      ],
      "metadata": {
        "colab": {
          "base_uri": "https://localhost:8080/"
        },
        "id": "FvtvcDXaGnPE",
        "outputId": "a1784b56-63f7-4737-9d56-5c87d35e9d76"
      },
      "execution_count": null,
      "outputs": [
        {
          "output_type": "stream",
          "name": "stdout",
          "text": [
            "[-0.99792042  0.9999999  -0.99999579  1.          1.        ]\n",
            "[-0.99999999 -1.         -0.87800905 -0.99870474 -0.99999999]\n",
            "[ 0.99587854 -0.99999931  1.         -0.99999993  0.99999419]\n"
          ]
        }
      ]
    },
    {
      "cell_type": "markdown",
      "source": [
        "クエリqを'like'のベクトルとする"
      ],
      "metadata": {
        "id": "MXgf05lUHHzn"
      }
    },
    {
      "cell_type": "code",
      "source": [
        "y = model.wv['like']\n",
        "q = RNN_cell(y)\n",
        "print(q)"
      ],
      "metadata": {
        "colab": {
          "base_uri": "https://localhost:8080/"
        },
        "id": "hQ1tDQ_7HDgB",
        "outputId": "18c6f224-707e-4746-bce4-0027b0bddbf3"
      },
      "execution_count": null,
      "outputs": [
        {
          "output_type": "stream",
          "name": "stdout",
          "text": [
            "[-0.9898434   1.         -0.99999995 -0.14967497 -1.        ]\n"
          ]
        }
      ]
    },
    {
      "cell_type": "markdown",
      "source": [
        "宿題(10/11)\n",
        "\n",
        "1. h0, h1, h2の3つのベクトルに対して、qとの内積a = [a0, a1, a2] を計算してください。\n",
        "2. 内積aの各要素値を重みとして、h0, h1, h2の重み付き和ベクトルを計算してください。\n"
      ],
      "metadata": {
        "id": "jtbuuDntHUeN"
      }
    },
    {
      "cell_type": "code",
      "source": [
        "a0 = np.dot(h0, q)\n",
        "a1 = np.dot(h1, q)\n",
        "a2 = np.dot(h2, q)"
      ],
      "metadata": {
        "id": "r9NZbmQGQMSx"
      },
      "execution_count": null,
      "outputs": []
    },
    {
      "cell_type": "code",
      "source": [
        "ctx = a0 * h0 + a1 * h1 + a2 * h2"
      ],
      "metadata": {
        "id": "JBrniP9bQi0F"
      },
      "execution_count": null,
      "outputs": []
    },
    {
      "cell_type": "code",
      "source": [
        "print(ctx)"
      ],
      "metadata": {
        "colab": {
          "base_uri": "https://localhost:8080/"
        },
        "id": "c8zVUfwAQqBG",
        "outputId": "ef39b7cc-3bdf-4cc3-a3f3-5dce3907c0ff"
      },
      "execution_count": null,
      "outputs": [
        {
          "output_type": "stream",
          "name": "stdout",
          "text": [
            "[-7.67188863  3.65685159 -7.44541723  3.65946711 -4.01528788]\n"
          ]
        }
      ]
    },
    {
      "cell_type": "markdown",
      "source": [
        "ポジショナルエンコーディング\n",
        "文章中の各単語(トークン)に位置情報を与える処理"
      ],
      "metadata": {
        "id": "80XKqGR_GP2J"
      }
    },
    {
      "cell_type": "code",
      "source": [
        "import numpy as np\n",
        "\n",
        "def positional_encoding(pos, i, dim):\n",
        "  if i//2 == 0:\n",
        "    return np.sin(pos/10000**(1/dim))\n",
        "  else:\n",
        "    return np.cos(pos/10000**((i-1)/dim))"
      ],
      "metadata": {
        "id": "UhHxhFzaGZjq"
      },
      "execution_count": null,
      "outputs": []
    },
    {
      "cell_type": "markdown",
      "source": [
        "100番目までの位置情報を生成"
      ],
      "metadata": {
        "id": "DnLH6BP8GqZM"
      }
    },
    {
      "cell_type": "code",
      "source": [
        "for i in range(0, 100):\n",
        "  print(positional_encoding(1, i, 100))"
      ],
      "metadata": {
        "id": "LtLSneytGpQj"
      },
      "execution_count": null,
      "outputs": []
    },
    {
      "cell_type": "code",
      "source": [
        "pe = np.zeros((30, 100))\n",
        "for i in range(0,30):\n",
        "  for j in range(0, 100):\n",
        "    pe[i][j] = positional_encoding(i, j, 100)\n",
        "\n",
        "print(pe)"
      ],
      "metadata": {
        "id": "xr5aFMThG5_t"
      },
      "execution_count": null,
      "outputs": []
    },
    {
      "cell_type": "code",
      "source": [
        "import seaborn as sns\n",
        "import matplotlib.pyplot as plt\n",
        "\n",
        "sns.heatmap(pe)\n",
        "plt.show()"
      ],
      "metadata": {
        "colab": {
          "base_uri": "https://localhost:8080/",
          "height": 439
        },
        "id": "OuTnigNNHCjF",
        "outputId": "6abfe2d8-dad0-419a-a956-dbe160d8ce8d"
      },
      "execution_count": null,
      "outputs": [
        {
          "output_type": "display_data",
          "data": {
            "text/plain": [
              "<Figure size 640x480 with 2 Axes>"
            ],
            "image/png": "[encoded data removed]"
          },
          "metadata": {}
        }
      ]
    },
    {
      "cell_type": "code",
      "source": [
        "h0 = model.wv['i']\n",
        "h1 = model.wv['like']\n",
        "h2 = model.wv['dog']"
      ],
      "metadata": {
        "id": "gAbJb6G3HvTo"
      },
      "execution_count": null,
      "outputs": []
    },
    {
      "cell_type": "code",
      "source": [
        "h0.shape"
      ],
      "metadata": {
        "colab": {
          "base_uri": "https://localhost:8080/"
        },
        "id": "99EOjlYPH9m4",
        "outputId": "bbb60664-5604-47bd-e470-f5e8521cb0fc"
      },
      "execution_count": null,
      "outputs": [
        {
          "output_type": "execute_result",
          "data": {
            "text/plain": [
              "(100,)"
            ]
          },
          "metadata": {},
          "execution_count": 11
        }
      ]
    },
    {
      "cell_type": "markdown",
      "source": [
        "positional encoding"
      ],
      "metadata": {
        "id": "EihJkkpGIB3M"
      }
    },
    {
      "cell_type": "code",
      "source": [
        "pe[0]\n",
        "print(pe[0].shape)"
      ],
      "metadata": {
        "colab": {
          "base_uri": "https://localhost:8080/"
        },
        "id": "GNcverWKINKB",
        "outputId": "c60340b2-7bd1-4794-85a0-f72d969237fd"
      },
      "execution_count": null,
      "outputs": [
        {
          "output_type": "stream",
          "name": "stdout",
          "text": [
            "(100,)\n"
          ]
        }
      ]
    },
    {
      "cell_type": "code",
      "source": [
        "h0_pe = h0 + pe[0] # I\n",
        "h1_pe = h1 + pe[1] # like\n",
        "h2_pe = h2 + pe[2] # dog"
      ],
      "metadata": {
        "id": "rl6Z0mWwIEMo"
      },
      "execution_count": null,
      "outputs": []
    }
  ]
}