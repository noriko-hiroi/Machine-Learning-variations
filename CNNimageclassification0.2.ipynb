{
  "cells": [
    {
      "cell_type": "code",
      "execution_count": null,
      "metadata": {
        "colab": {
          "base_uri": "https://localhost:8080/"
        },
        "id": "sTwZNntkTkJ2",
        "outputId": "222cd1c7-656e-4186-9d71-7990428bb973"
      },
      "outputs": [
        {
          "output_type": "stream",
          "name": "stdout",
          "text": [
            "Drive already mounted at /content/drive; to attempt to forcibly remount, call drive.mount(\"/content/drive\", force_remount=True).\n"
          ]
        }
      ],
      "source": [
        "from google.colab import drive\n",
        "drive.mount('/content/drive')"
      ]
    },
    {
      "cell_type": "code",
      "execution_count": null,
      "metadata": {
        "id": "jpI__ffUkD20"
      },
      "outputs": [],
      "source": [
        "#from _typeshed import Self\n",
        "import torch\n",
        "import torch.nn.functional\n",
        "import torch.utils.data\n",
        "import torchvision\n",
        "\n",
        "import time\n",
        "import copy\n",
        "import torch\n",
        "import torchvision"
      ]
    },
    {
      "cell_type": "code",
      "source": [
        "data_transforms = {\n",
        "    'train': torchvision.transforms.Compose([\n",
        "        torchvision.transforms.Resize((240, 320)),\n",
        "        torchvision.transforms.RandomHorizontalFlip(),\n",
        "        torchvision.transforms.ToTensor(),\n",
        "        torchvision.transforms.Normalize([0.485, 0.456, 0.406], [0.229, 0.224, 0.225])\n",
        "    ]),\n",
        "    'val': torchvision.transforms.Compose([\n",
        "        torchvision.transforms.Resize((240, 320)),\n",
        "        torchvision.transforms.ToTensor(),\n",
        "        torchvision.transforms.Normalize([0.485, 0.456, 0.406], [0.229, 0.224, 0.225])\n",
        "    ]),\n",
        "}"
      ],
      "metadata": {
        "id": "Lh1gj5Xc32_2"
      },
      "execution_count": null,
      "outputs": []
    },
    {
      "cell_type": "code",
      "source": [
        "data_dir_path = '/content/drive/MyDrive/Colab_Notebooks/images/'\n",
        "image_datasets = {\n",
        "    'train': torchvision.datasets.ImageFolder(root=data_dir_path + 'TRAIN',\n",
        "                                              transform=data_transforms['train']),\n",
        "    'val':   torchvision.datasets.ImageFolder(root=data_dir_path + 'TEST',\n",
        "                                              transform=data_transforms['val'])\n",
        "}\n",
        "dataloaders = {\n",
        "    'train': torch.utils.data.DataLoader(image_datasets['train'], batch_size=4, shuffle=True),\n",
        "    'val': torch.utils.data.DataLoader(image_datasets['val'], batch_size=4)\n",
        "}\n",
        "dataset_sizes = {\n",
        "    'train': len(image_datasets['train']),\n",
        "    'val': len(image_datasets['val'])\n",
        "}\n",
        "class_names = image_datasets['train'].classes"
      ],
      "metadata": {
        "id": "rWVG-pCD3_xv"
      },
      "execution_count": null,
      "outputs": []
    },
    {
      "cell_type": "code",
      "source": [
        "class Net(torch.nn.Module):\n",
        "\n",
        "    def __init__(self):\n",
        "        super(Net, self).__init__()\n",
        "        self.conv1 = torch.nn.Conv2d(3, 16, 5)\n",
        "        self.pool1 = torch.nn.MaxPool2d(2, 2)\n",
        "        self.conv2 = torch.nn.Conv2d(16, 32, 5)\n",
        "        self.pool2 = torch.nn.MaxPool2d(2, 2)\n",
        "        self.fc1 = torch.nn.Linear(32 * 57 * 77, 512)\n",
        "        self.fc2 = torch.nn.Linear(512, 64)\n",
        "        self.fc3 = torch.nn.Linear(64, 4)\n",
        "\n",
        "\n",
        "    def forward(self, x):\n",
        "        x = torch.nn.functional.relu(self.conv1(x))\n",
        "        x = self.pool1(x)\n",
        "        x = torch.nn.functional.relu(self.conv2(x))\n",
        "        x = self.pool2(x)\n",
        "        x = x.view(-1, 32 * 57 * 77)\n",
        "        x = torch.nn.functional.relu(self.fc1(x))\n",
        "        x = torch.nn.functional.relu(self.fc2(x))\n",
        "        x = self.fc3(x)\n",
        "        return x"
      ],
      "metadata": {
        "id": "kYVTa3Fq4G70"
      },
      "execution_count": null,
      "outputs": []
    },
    {
      "cell_type": "code",
      "source": [
        "net = Net()"
      ],
      "metadata": {
        "id": "4_819SKnW-q9"
      },
      "execution_count": null,
      "outputs": []
    },
    {
      "cell_type": "code",
      "source": [
        "criterion = torch.nn.CrossEntropyLoss()\n",
        "optimizer = torch.optim.SGD(net.parameters(), lr=0.01, momentum=0.9)"
      ],
      "metadata": {
        "id": "7yuRUQH4XH3F"
      },
      "execution_count": null,
      "outputs": []
    },
    {
      "cell_type": "code",
      "source": [
        "net.train()"
      ],
      "metadata": {
        "colab": {
          "base_uri": "https://localhost:8080/"
        },
        "id": "A0h2Sm_RXO2s",
        "outputId": "f2e4b66a-6317-4d77-ffdb-8438ebc517db"
      },
      "execution_count": null,
      "outputs": [
        {
          "output_type": "execute_result",
          "data": {
            "text/plain": [
              "Net(\n",
              "  (conv1): Conv2d(3, 16, kernel_size=(5, 5), stride=(1, 1))\n",
              "  (pool1): MaxPool2d(kernel_size=2, stride=2, padding=0, dilation=1, ceil_mode=False)\n",
              "  (conv2): Conv2d(16, 32, kernel_size=(5, 5), stride=(1, 1))\n",
              "  (pool2): MaxPool2d(kernel_size=2, stride=2, padding=0, dilation=1, ceil_mode=False)\n",
              "  (fc1): Linear(in_features=140448, out_features=512, bias=True)\n",
              "  (fc2): Linear(in_features=512, out_features=64, bias=True)\n",
              "  (fc3): Linear(in_features=64, out_features=4, bias=True)\n",
              ")"
            ]
          },
          "metadata": {},
          "execution_count": 15
        }
      ]
    },
    {
      "cell_type": "code",
      "source": [
        "def train_model(model, dataloaders, criterion, optimizer, scheduler, num_epochs):\n",
        "    since = time.time()\n",
        "    \n",
        "    # save the best model during learning\n",
        "    best_model_wts = copy.deepcopy(model.state_dict())\n",
        "    best_acc = 0.0\n",
        "    \n",
        "    for epoch in range(num_epochs):\n",
        "        print('Epoch {}/{}'.format(epoch, num_epochs - 1))\n",
        "        print('-' * 10)\n",
        "\n",
        "        for phase in ['train', 'val']:\n",
        "            if phase == 'train':\n",
        "                model.train()  # training mode\n",
        "            else:\n",
        "                model.eval()   # evaluate mode\n",
        "\n",
        "            running_loss = 0.0\n",
        "            running_corrects = 0\n",
        "\n",
        "            for inputs, labels in dataloaders[phase]:\n",
        "                inputs = inputs.to(device)\n",
        "                labels = labels.to(device)\n",
        "\n",
        "                optimizer.zero_grad()\n",
        "                with torch.set_grad_enabled(phase == 'train'):\n",
        "                    outputs = model(inputs)\n",
        "                    _, preds = torch.max(outputs, 1)\n",
        "\n",
        "                    loss = criterion(outputs, labels)\n",
        "\n",
        "                    if phase == 'train':\n",
        "                        loss.backward()\n",
        "                        optimizer.step()\n",
        "\n",
        "                running_loss += loss.item() * inputs.size(0)\n",
        "                running_corrects += torch.sum(preds == labels.data)\n",
        "\n",
        "\n",
        "            if phase == 'train':\n",
        "                scheduler.step()\n",
        "\n",
        "            epoch_loss = running_loss / dataset_sizes[phase]\n",
        "            epoch_acc = running_corrects.double() / dataset_sizes[phase]\n",
        "\n",
        "            print('{} Loss: {:.4f} Acc: {:.4f}'.format(phase, epoch_loss, epoch_acc))\n",
        "\n",
        "            if phase == 'val' and epoch_acc > best_acc:\n",
        "                best_acc = epoch_acc\n",
        "                best_model_wts = copy.deepcopy(model.state_dict())\n",
        "\n",
        "    time_elapsed = time.time() - since\n",
        "    print('Training complete in {:.0f}m {:.0f}s'.format(time_elapsed // 60, time_elapsed % 60))\n",
        "    print('Best val Acc: {:4f}'.format(best_acc))\n",
        "\n",
        "    model.load_state_dict(best_model_wts)\n",
        "    return model\n",
        "\n",
        "\n",
        "device = torch.device('cuda:0' if torch.cuda.is_available() else 'cpu')\n",
        "\n",
        "net = Net()\n",
        "net = net.to(device)\n",
        "\n",
        "criterion = torch.nn.CrossEntropyLoss()\n",
        "optimizer = torch.optim.SGD(net.parameters(), lr=0.001, momentum=0.9)\n",
        "scheduler = torch.optim.lr_scheduler.StepLR(optimizer, step_size=7, gamma=0.1)\n",
        "\n",
        "model = train_model(net, dataloaders, criterion, optimizer, scheduler, num_epochs=50)\n",
        "\n",
        "torch.save(self.model.state_dict(), weights_fpath)  "
      ],
      "metadata": {
        "id": "S-_FSf5i4Xlk",
        "colab": {
          "base_uri": "https://localhost:8080/",
          "height": 1000
        },
        "outputId": "6f8a2694-131e-49bc-f971-4f31deabc7cd"
      },
      "execution_count": null,
      "outputs": [
        {
          "output_type": "stream",
          "name": "stdout",
          "text": [
            "Epoch 0/49\n",
            "----------\n",
            "train Loss: 0.6460 Acc: 0.7050\n",
            "val Loss: 0.1550 Acc: 1.0000\n",
            "Epoch 1/49\n",
            "----------\n",
            "train Loss: 0.2176 Acc: 0.9117\n",
            "val Loss: 0.1417 Acc: 1.0000\n",
            "Epoch 2/49\n",
            "----------\n",
            "train Loss: 0.1172 Acc: 0.9517\n",
            "val Loss: 0.0096 Acc: 1.0000\n",
            "Epoch 3/49\n",
            "----------\n",
            "train Loss: 0.1166 Acc: 0.9583\n",
            "val Loss: 0.7342 Acc: 0.5800\n",
            "Epoch 4/49\n",
            "----------\n",
            "train Loss: 0.0309 Acc: 0.9867\n",
            "val Loss: 0.3102 Acc: 0.8200\n",
            "Epoch 5/49\n",
            "----------\n",
            "train Loss: 0.0401 Acc: 0.9850\n",
            "val Loss: 0.0301 Acc: 1.0000\n",
            "Epoch 6/49\n",
            "----------\n",
            "train Loss: 0.0451 Acc: 0.9850\n",
            "val Loss: 0.5586 Acc: 0.7000\n",
            "Epoch 7/49\n",
            "----------\n",
            "train Loss: 0.0083 Acc: 1.0000\n",
            "val Loss: 0.4554 Acc: 0.8450\n",
            "Epoch 8/49\n",
            "----------\n",
            "train Loss: 0.0029 Acc: 1.0000\n",
            "val Loss: 0.4335 Acc: 0.8400\n",
            "Epoch 9/49\n",
            "----------\n",
            "train Loss: 0.0023 Acc: 1.0000\n",
            "val Loss: 0.3752 Acc: 0.8450\n",
            "Epoch 10/49\n",
            "----------\n",
            "train Loss: 0.0015 Acc: 1.0000\n",
            "val Loss: 0.3496 Acc: 0.8500\n",
            "Epoch 11/49\n",
            "----------\n",
            "train Loss: 0.0012 Acc: 1.0000\n",
            "val Loss: 0.3328 Acc: 0.8500\n",
            "Epoch 12/49\n",
            "----------\n",
            "train Loss: 0.0009 Acc: 1.0000\n",
            "val Loss: 0.3242 Acc: 0.8550\n",
            "Epoch 13/49\n",
            "----------\n",
            "train Loss: 0.0007 Acc: 1.0000\n",
            "val Loss: 0.3164 Acc: 0.8550\n",
            "Epoch 14/49\n",
            "----------\n",
            "train Loss: 0.0008 Acc: 1.0000\n",
            "val Loss: 0.3154 Acc: 0.8550\n",
            "Epoch 15/49\n",
            "----------\n",
            "train Loss: 0.0008 Acc: 1.0000\n",
            "val Loss: 0.3148 Acc: 0.8550\n",
            "Epoch 16/49\n",
            "----------\n",
            "train Loss: 0.0007 Acc: 1.0000\n",
            "val Loss: 0.3134 Acc: 0.8550\n",
            "Epoch 17/49\n",
            "----------\n",
            "train Loss: 0.0007 Acc: 1.0000\n",
            "val Loss: 0.3127 Acc: 0.8550\n",
            "Epoch 18/49\n",
            "----------\n",
            "train Loss: 0.0008 Acc: 1.0000\n",
            "val Loss: 0.3124 Acc: 0.8550\n",
            "Epoch 19/49\n",
            "----------\n",
            "train Loss: 0.0008 Acc: 1.0000\n",
            "val Loss: 0.3128 Acc: 0.8550\n",
            "Epoch 20/49\n",
            "----------\n",
            "train Loss: 0.0007 Acc: 1.0000\n",
            "val Loss: 0.3141 Acc: 0.8550\n",
            "Epoch 21/49\n",
            "----------\n",
            "train Loss: 0.0007 Acc: 1.0000\n",
            "val Loss: 0.3140 Acc: 0.8550\n",
            "Epoch 22/49\n",
            "----------\n",
            "train Loss: 0.0006 Acc: 1.0000\n",
            "val Loss: 0.3138 Acc: 0.8550\n",
            "Epoch 23/49\n",
            "----------\n",
            "train Loss: 0.0007 Acc: 1.0000\n",
            "val Loss: 0.3137 Acc: 0.8550\n",
            "Epoch 24/49\n",
            "----------\n",
            "train Loss: 0.0007 Acc: 1.0000\n",
            "val Loss: 0.3135 Acc: 0.8550\n",
            "Epoch 25/49\n",
            "----------\n",
            "train Loss: 0.0007 Acc: 1.0000\n",
            "val Loss: 0.3136 Acc: 0.8550\n",
            "Epoch 26/49\n",
            "----------\n",
            "train Loss: 0.0006 Acc: 1.0000\n",
            "val Loss: 0.3136 Acc: 0.8550\n",
            "Epoch 27/49\n",
            "----------\n",
            "train Loss: 0.0007 Acc: 1.0000\n",
            "val Loss: 0.3136 Acc: 0.8550\n",
            "Epoch 28/49\n",
            "----------\n",
            "train Loss: 0.0007 Acc: 1.0000\n",
            "val Loss: 0.3136 Acc: 0.8550\n",
            "Epoch 29/49\n",
            "----------\n",
            "train Loss: 0.0007 Acc: 1.0000\n",
            "val Loss: 0.3136 Acc: 0.8550\n",
            "Epoch 30/49\n",
            "----------\n",
            "train Loss: 0.0007 Acc: 1.0000\n",
            "val Loss: 0.3136 Acc: 0.8550\n",
            "Epoch 31/49\n",
            "----------\n",
            "train Loss: 0.0008 Acc: 1.0000\n",
            "val Loss: 0.3136 Acc: 0.8550\n",
            "Epoch 32/49\n",
            "----------\n",
            "train Loss: 0.0006 Acc: 1.0000\n",
            "val Loss: 0.3136 Acc: 0.8550\n",
            "Epoch 33/49\n",
            "----------\n",
            "train Loss: 0.0007 Acc: 1.0000\n",
            "val Loss: 0.3136 Acc: 0.8550\n",
            "Epoch 34/49\n",
            "----------\n",
            "train Loss: 0.0007 Acc: 1.0000\n",
            "val Loss: 0.3136 Acc: 0.8550\n",
            "Epoch 35/49\n",
            "----------\n",
            "train Loss: 0.0007 Acc: 1.0000\n",
            "val Loss: 0.3136 Acc: 0.8550\n",
            "Epoch 36/49\n",
            "----------\n",
            "train Loss: 0.0008 Acc: 1.0000\n",
            "val Loss: 0.3136 Acc: 0.8550\n",
            "Epoch 37/49\n",
            "----------\n",
            "train Loss: 0.0007 Acc: 1.0000\n",
            "val Loss: 0.3136 Acc: 0.8550\n",
            "Epoch 38/49\n",
            "----------\n",
            "train Loss: 0.0007 Acc: 1.0000\n",
            "val Loss: 0.3136 Acc: 0.8550\n",
            "Epoch 39/49\n",
            "----------\n",
            "train Loss: 0.0007 Acc: 1.0000\n",
            "val Loss: 0.3136 Acc: 0.8550\n",
            "Epoch 40/49\n",
            "----------\n",
            "train Loss: 0.0007 Acc: 1.0000\n",
            "val Loss: 0.3136 Acc: 0.8550\n",
            "Epoch 41/49\n",
            "----------\n",
            "train Loss: 0.0007 Acc: 1.0000\n",
            "val Loss: 0.3136 Acc: 0.8550\n",
            "Epoch 42/49\n",
            "----------\n",
            "train Loss: 0.0007 Acc: 1.0000\n",
            "val Loss: 0.3136 Acc: 0.8550\n",
            "Epoch 43/49\n",
            "----------\n",
            "train Loss: 0.0006 Acc: 1.0000\n",
            "val Loss: 0.3136 Acc: 0.8550\n",
            "Epoch 44/49\n",
            "----------\n",
            "train Loss: 0.0007 Acc: 1.0000\n",
            "val Loss: 0.3136 Acc: 0.8550\n",
            "Epoch 45/49\n",
            "----------\n",
            "train Loss: 0.0007 Acc: 1.0000\n",
            "val Loss: 0.3136 Acc: 0.8550\n",
            "Epoch 46/49\n",
            "----------\n",
            "train Loss: 0.0008 Acc: 1.0000\n",
            "val Loss: 0.3136 Acc: 0.8550\n",
            "Epoch 47/49\n",
            "----------\n",
            "train Loss: 0.0007 Acc: 1.0000\n",
            "val Loss: 0.3136 Acc: 0.8550\n",
            "Epoch 48/49\n",
            "----------\n",
            "train Loss: 0.0007 Acc: 1.0000\n",
            "val Loss: 0.3136 Acc: 0.8550\n",
            "Epoch 49/49\n",
            "----------\n",
            "train Loss: 0.0007 Acc: 1.0000\n",
            "val Loss: 0.3136 Acc: 0.8550\n",
            "Training complete in 3m 43s\n",
            "Best val Acc: 1.000000\n"
          ]
        },
        {
          "output_type": "error",
          "ename": "NameError",
          "evalue": "ignored",
          "traceback": [
            "\u001b[0;31m---------------------------------------------------------------------------\u001b[0m",
            "\u001b[0;31mNameError\u001b[0m                                 Traceback (most recent call last)",
            "\u001b[0;32m<ipython-input-11-cd6b7cbdf5c2>\u001b[0m in \u001b[0;36m<module>\u001b[0;34m\u001b[0m\n\u001b[1;32m     69\u001b[0m \u001b[0mmodel\u001b[0m \u001b[0;34m=\u001b[0m \u001b[0mtrain_model\u001b[0m\u001b[0;34m(\u001b[0m\u001b[0mnet\u001b[0m\u001b[0;34m,\u001b[0m \u001b[0mdataloaders\u001b[0m\u001b[0;34m,\u001b[0m \u001b[0mcriterion\u001b[0m\u001b[0;34m,\u001b[0m \u001b[0moptimizer\u001b[0m\u001b[0;34m,\u001b[0m \u001b[0mscheduler\u001b[0m\u001b[0;34m,\u001b[0m \u001b[0mnum_epochs\u001b[0m\u001b[0;34m=\u001b[0m\u001b[0;36m50\u001b[0m\u001b[0;34m)\u001b[0m\u001b[0;34m\u001b[0m\u001b[0;34m\u001b[0m\u001b[0m\n\u001b[1;32m     70\u001b[0m \u001b[0;34m\u001b[0m\u001b[0m\n\u001b[0;32m---> 71\u001b[0;31m \u001b[0mtorch\u001b[0m\u001b[0;34m.\u001b[0m\u001b[0msave\u001b[0m\u001b[0;34m(\u001b[0m\u001b[0mself\u001b[0m\u001b[0;34m.\u001b[0m\u001b[0mmodel\u001b[0m\u001b[0;34m.\u001b[0m\u001b[0mstate_dict\u001b[0m\u001b[0;34m(\u001b[0m\u001b[0;34m)\u001b[0m\u001b[0;34m,\u001b[0m \u001b[0mweights_fpath\u001b[0m\u001b[0;34m)\u001b[0m\u001b[0;34m\u001b[0m\u001b[0;34m\u001b[0m\u001b[0m\n\u001b[0m",
            "\u001b[0;31mNameError\u001b[0m: name 'self' is not defined"
          ]
        }
      ]
    },
    {
      "cell_type": "code",
      "source": [],
      "metadata": {
        "id": "HTPY3l3-WzOX"
      },
      "execution_count": null,
      "outputs": []
    },
    {
      "cell_type": "markdown",
      "metadata": {
        "id": "mhRfuofAC4w9"
      },
      "source": [
        "# New section"
      ]
    }
  ],
  "metadata": {
    "accelerator": "GPU",
    "colab": {
      "machine_shape": "hm",
      "provenance": [],
      "toc_visible": true
    },
    "gpuClass": "premium",
    "kernelspec": {
      "display_name": "Python 3",
      "name": "python3"
    },
    "language_info": {
      "name": "python"
    }
  },
  "nbformat": 4,
  "nbformat_minor": 0
}